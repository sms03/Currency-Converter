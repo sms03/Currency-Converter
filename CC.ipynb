{
 "cells": [
  {
   "cell_type": "code",
   "execution_count": 1,
   "metadata": {},
   "outputs": [],
   "source": [
    "from currency_converter import CurrencyConverter\n",
    "import tkinter as tk"
   ]
  },
  {
   "cell_type": "code",
   "execution_count": 2,
   "metadata": {},
   "outputs": [],
   "source": [
    "c = CurrencyConverter()"
   ]
  },
  {
   "cell_type": "code",
   "execution_count": 8,
   "metadata": {},
   "outputs": [],
   "source": [
    "window = tk.Tk()\n",
    "window.geometry(\"512x384\")\n",
    "window.title(\"CC\")\n",
    "\n",
    "def clicked():\n",
    "    amount = int(entry1.get())\n",
    "    currency1 = entry2.get()\n",
    "    currency2 = entry3.get()\n",
    "    data = c.convert(amount, currency1, currency2)\n",
    "    label4 = tk.Label(window, text = data, font = \"Times 16 bold\").place(x = 175, y = 325)\n",
    "\n",
    "Label = tk.Label(window, text = \"Currency Converter\", font = \"Times 20 bold\").place(x =140, y = 50)\n",
    "\n",
    "Label1 = tk.Label(window, text = \"Enter amount here: \", font = \"Times 16 bold\").place(x = 50, y = 100)\n",
    "entry1 = tk.Entry(window)\n",
    "\n",
    "Label2 = tk.Label(window, text = \"Enter currency here: \", font = \"Times 16 bold\").place(x = 50, y = 150)\n",
    "entry2 = tk.Entry(window)\n",
    "\n",
    "Label3 = tk.Label(window, text = \"Enter your currency here: \", font = \"Times 16 bold\").place(x = 50, y = 200)\n",
    "entry3 = tk.Entry(window)\n",
    "\n",
    "button = tk.Button(window, text = \"Click\", font =\"Times 14 bold\", command = clicked).place(x = 225, y = 250)\n",
    "\n",
    "entry1.place(x = 325, y = 105)\n",
    "entry2.place(x = 325, y = 155)\n",
    "entry3.place(x = 325, y = 205)\n",
    "\n",
    "window.mainloop()"
   ]
  }
 ],
 "metadata": {
  "kernelspec": {
   "display_name": "Python 3",
   "language": "python",
   "name": "python3"
  },
  "language_info": {
   "codemirror_mode": {
    "name": "ipython",
    "version": 3
   },
   "file_extension": ".py",
   "mimetype": "text/x-python",
   "name": "python",
   "nbconvert_exporter": "python",
   "pygments_lexer": "ipython3",
   "version": "3.12.1"
  }
 },
 "nbformat": 4,
 "nbformat_minor": 2
}
